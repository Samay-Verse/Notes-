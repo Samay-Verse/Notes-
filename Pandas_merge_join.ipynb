{
 "cells": [
  {
   "cell_type": "code",
   "execution_count": 2,
   "id": "e914ea02-b25d-4ea4-b3a1-2f06b46fc4cc",
   "metadata": {},
   "outputs": [],
   "source": [
    "import pandas as pd\n"
   ]
  },
  {
   "cell_type": "code",
   "execution_count": 3,
   "id": "aab9b3bc-e706-4264-9fb1-8ceaafc19fd2",
   "metadata": {},
   "outputs": [],
   "source": [
    "data1 = {\n",
    "    'emp_id': range(1, 21),\n",
    "    'name': ['Alice', 'Bob', 'Charlie', 'David', 'Eva', 'Frank', 'Grace', 'Hank', 'Ivy', 'Jack',\n",
    "             'Kathy', 'Leo', 'Mona', 'Nate', 'Olivia', 'Paul', 'Queen', 'Rob', 'Sara', 'Tom'],\n",
    "    'age': [25, 30, 28, 35, 22, 29, 31, 40, 27, 26,\n",
    "            33, 32, 24, 37, 21, 34, 36, 38, 23, 39],\n",
    "    'dept_id': [101, 102, 103, 101, 102, 104, 103, 101, 104, 102,\n",
    "                105, 103, 104, 102, 101, 105, 103, 102, 105, 101]\n",
    "}\n",
    "\n",
    "df_personal = pd.DataFrame(data1)\n"
   ]
  },
  {
   "cell_type": "code",
   "execution_count": 4,
   "id": "ea16704b-cc6d-4899-9cf6-6ff8e6eb2e57",
   "metadata": {},
   "outputs": [],
   "source": [
    "data2 = {\n",
    "    'dept_id': [101, 102, 103, 104, 105],\n",
    "    'dept_name': ['HR', 'Finance', 'Engineering', 'Marketing', 'Operations'],\n",
    "    'location': ['NY', 'LA', 'SF', 'TX', 'NJ']\n",
    "}\n",
    "\n",
    "df_department = pd.DataFrame(data2)\n"
   ]
  },
  {
   "cell_type": "code",
   "execution_count": 5,
   "id": "16615f17-3c49-4b5b-9deb-2ca3358c2af6",
   "metadata": {},
   "outputs": [],
   "source": [
    "data3 = {\n",
    "    'emp_id': range(1, 21),\n",
    "    'rating': [3, 5, 4, 2, 3, 4, 5, 3, 4, 2, 5, 4, 3, 5, 2, 4, 4, 5, 3, 5],\n",
    "    'last_bonus': [1000, 1500, 1200, 900, 1100, 1300, 1600, 950, 1400, 1050,\n",
    "                   1550, 1250, 1150, 1500, 1000, 1350, 1450, 1600, 1100, 1500]\n",
    "}\n",
    "\n",
    "df_performance = pd.DataFrame(data3).set_index('emp_id')\n"
   ]
  },
  {
   "cell_type": "code",
   "execution_count": 6,
   "id": "a951ebea-152f-40f1-8b45-81a44e02e0d7",
   "metadata": {},
   "outputs": [
    {
     "ename": "NameError",
     "evalue": "name 'df_top' is not defined",
     "output_type": "error",
     "traceback": [
      "\u001b[1;31m---------------------------------------------------------------------------\u001b[0m",
      "\u001b[1;31mNameError\u001b[0m                                 Traceback (most recent call last)",
      "Cell \u001b[1;32mIn[6], line 4\u001b[0m\n\u001b[0;32m      1\u001b[0m \u001b[38;5;66;03m# df_top = df_personal.iloc[:10]\u001b[39;00m\n\u001b[0;32m      2\u001b[0m \u001b[38;5;66;03m# df_bottom = df_personal.iloc[10:]\u001b[39;00m\n\u001b[1;32m----> 4\u001b[0m df_concat \u001b[38;5;241m=\u001b[39m pd\u001b[38;5;241m.\u001b[39mconcat([df_top, df_bottom], axis\u001b[38;5;241m=\u001b[39m\u001b[38;5;241m0\u001b[39m)\n",
      "\u001b[1;31mNameError\u001b[0m: name 'df_top' is not defined"
     ]
    }
   ],
   "source": [
    "# df_top = df_personal.iloc[:10]\n",
    "# df_bottom = df_personal.iloc[10:]\n",
    "\n",
    "df_concat = pd.concat([df_top, df_bottom], axis=0)\n"
   ]
  },
  {
   "cell_type": "code",
   "execution_count": null,
   "id": "a2a77266-ca60-4270-be46-54268701c13a",
   "metadata": {},
   "outputs": [],
   "source": [
    "df_personal.head() # merge "
   ]
  },
  {
   "cell_type": "code",
   "execution_count": null,
   "id": "eb47fa6e-a3da-4311-9147-ee2a8677da8c",
   "metadata": {},
   "outputs": [],
   "source": [
    "df_department.head()"
   ]
  },
  {
   "cell_type": "code",
   "execution_count": null,
   "id": "e3dcae6f-3e93-487b-92b4-8bf1ff1c2ff2",
   "metadata": {},
   "outputs": [],
   "source": []
  },
  {
   "cell_type": "code",
   "execution_count": null,
   "id": "0d56dd43-5cae-4aef-886d-af3dc7913c31",
   "metadata": {},
   "outputs": [],
   "source": [
    "import pandas as pd\n",
    "df1 = pd.DataFrame({'A': ['A0', 'A1'], 'B': ['B0', 'B1']})\n",
    "df2 = pd.DataFrame({'A': ['A2', 'A3'], 'B': ['B2', 'B3']})"
   ]
  },
  {
   "cell_type": "code",
   "execution_count": null,
   "id": "6195cfd1-c685-4ba4-b3c2-ee4184729c4b",
   "metadata": {},
   "outputs": [],
   "source": [
    "df1"
   ]
  },
  {
   "cell_type": "code",
   "execution_count": null,
   "id": "82eaa35b-9500-40c4-881e-b6f6a728d0dd",
   "metadata": {},
   "outputs": [],
   "source": [
    "df2"
   ]
  },
  {
   "cell_type": "code",
   "execution_count": null,
   "id": "b086c8cd-632c-46f6-910c-988834b77ebd",
   "metadata": {},
   "outputs": [],
   "source": [
    "df2.rename(columns = {'col1':'A'}, inplace = True)"
   ]
  },
  {
   "cell_type": "code",
   "execution_count": null,
   "id": "f207b2c0-e779-47db-94b9-bc85ceab3af4",
   "metadata": {},
   "outputs": [],
   "source": [
    "newdf = pd.concat([df1, df2], ignore_index = True)"
   ]
  },
  {
   "cell_type": "code",
   "execution_count": null,
   "id": "680d8654-6317-446b-b869-dbb152f1dc1d",
   "metadata": {},
   "outputs": [],
   "source": [
    "newdf"
   ]
  },
  {
   "cell_type": "code",
   "execution_count": null,
   "id": "46cc212b-478e-46d7-ac72-e94a6fd3b277",
   "metadata": {},
   "outputs": [],
   "source": [
    "# for concat if wehave the same name of column but having different values "
   ]
  },
  {
   "cell_type": "code",
   "execution_count": null,
   "id": "2e05c1be-ad69-46fd-8f00-04a209ddd9f1",
   "metadata": {},
   "outputs": [],
   "source": [
    "df = pd.read_csv('tested.csv')"
   ]
  },
  {
   "cell_type": "code",
   "execution_count": null,
   "id": "fab2e7f1-c4a9-43e8-8cb2-75b85c65cbe3",
   "metadata": {},
   "outputs": [],
   "source": [
    "df.head(2)"
   ]
  },
  {
   "cell_type": "code",
   "execution_count": null,
   "id": "074e8dde-5ebc-4809-8c37-a3b94defa92b",
   "metadata": {},
   "outputs": [],
   "source": [
    "newdata = df.loc[0:50]"
   ]
  },
  {
   "cell_type": "code",
   "execution_count": null,
   "id": "945e1c4e-39be-4111-a6f0-21c806055d2e",
   "metadata": {},
   "outputs": [],
   "source": [
    "newdata.head()"
   ]
  },
  {
   "cell_type": "code",
   "execution_count": null,
   "id": "41802ed9-1629-4f4b-9528-02ad92344be0",
   "metadata": {},
   "outputs": [],
   "source": [
    "newdata2 = df.loc[100:150]"
   ]
  },
  {
   "cell_type": "code",
   "execution_count": null,
   "id": "2b76e271-f409-494b-8678-d63276cd5fff",
   "metadata": {},
   "outputs": [],
   "source": [
    "newdata2.head(2)"
   ]
  },
  {
   "cell_type": "code",
   "execution_count": null,
   "id": "73cb16a9-7287-4ec7-ab1f-7948cfd3796b",
   "metadata": {},
   "outputs": [],
   "source": [
    "N = pd.concat([newdata,newdata2], ignore_index = True)"
   ]
  },
  {
   "cell_type": "code",
   "execution_count": null,
   "id": "96f1d7ff-cd12-47e2-a0fb-922e4724e5fc",
   "metadata": {},
   "outputs": [],
   "source": [
    "N.tail()"
   ]
  },
  {
   "cell_type": "code",
   "execution_count": null,
   "id": "10399ce1-1cb1-4cf5-977e-4139726c1211",
   "metadata": {},
   "outputs": [],
   "source": [
    "N.shape"
   ]
  },
  {
   "cell_type": "code",
   "execution_count": null,
   "id": "ebdce048-6847-42c3-8ed9-a0125dc5f266",
   "metadata": {},
   "outputs": [],
   "source": [
    "N.loc[66:68]"
   ]
  },
  {
   "cell_type": "code",
   "execution_count": null,
   "id": "2972c274-0862-4c08-b47a-9d450ec386f5",
   "metadata": {},
   "outputs": [],
   "source": [
    "# merge "
   ]
  },
  {
   "cell_type": "code",
   "execution_count": null,
   "id": "e9435062-7e24-4036-b8f5-e1e36f3d81cd",
   "metadata": {},
   "outputs": [],
   "source": [
    "import pandas as pd\n",
    "\n",
    "data1 = {'key': ['K0', 'K1', 'K2', 'K3'],\n",
    "         'Name':['Jai', 'Princi', 'Gaurav', 'Anuj'],\n",
    "        'Age':[27, 24, 22, 32],}\n",
    "\n",
    "data2 = {'key': ['K0', 'K1', 'K2', 'K3'],\n",
    "         'Address':['Nagpur', 'Kanpur', 'Allahabad', 'Kannuaj'],\n",
    "        'Qualification':['Btech', 'B.A', 'Bcom', 'B.hons']}\n",
    "\n",
    "df = pd.DataFrame(data1)\n",
    "\n",
    "df1 = pd.DataFrame(data2)\n",
    "df1"
   ]
  },
  {
   "cell_type": "code",
   "execution_count": null,
   "id": "2ce625ff-dda0-48e7-b447-9f37ef36b51f",
   "metadata": {},
   "outputs": [],
   "source": [
    "df"
   ]
  },
  {
   "cell_type": "code",
   "execution_count": null,
   "id": "92d022ee-a178-480a-bec5-0eb7b03cb9a5",
   "metadata": {},
   "outputs": [],
   "source": [
    "pd.merge(df, df1, on='key')"
   ]
  },
  {
   "cell_type": "code",
   "execution_count": null,
   "id": "fa3d8488-c029-4a36-817f-06ee46405c69",
   "metadata": {},
   "outputs": [],
   "source": [
    "import pandas as pd\n",
    "\n",
    "data1 = {'key': ['K0', 'K1', 'K2', 'K3'],\n",
    "         'key1': ['K0', 'K1', 'K0', 'K1'],\n",
    "         'Name':['Jai', 'Princi', 'Gaurav', 'Anuj'],\n",
    "        'Age':[27, 24, 22, 32],}\n",
    "\n",
    "data2 = {'key': ['K0', 'K1', 'K2', 'K3'],\n",
    "         'key1': ['K0', 'K0', 'K0', 'K0'],\n",
    "         'Address':['Nagpur', 'Kanpur', 'Allahabad', 'Kannuaj'],\n",
    "        'Qualification':['Btech', 'B.A', 'Bcom', 'B.hons']}\n",
    "\n",
    "df = pd.DataFrame(data1)\n",
    "\n",
    "df1 = pd.DataFrame(data2)\n",
    "\n",
    "\n"
   ]
  },
  {
   "cell_type": "code",
   "execution_count": null,
   "id": "4d7f3f98-2079-4029-ad8c-d3af7a2abb20",
   "metadata": {},
   "outputs": [],
   "source": [
    "df"
   ]
  },
  {
   "cell_type": "code",
   "execution_count": null,
   "id": "494e5d87-bc12-4f4b-ab56-6b97b4127770",
   "metadata": {},
   "outputs": [],
   "source": [
    "df1"
   ]
  },
  {
   "cell_type": "code",
   "execution_count": null,
   "id": "d515e969-1f44-4fa4-99d2-0bf91d7a3031",
   "metadata": {},
   "outputs": [],
   "source": [
    "res1 = pd.merge(df, df1, on=['key', 'key1'])\n",
    "\n",
    "res1"
   ]
  },
  {
   "cell_type": "code",
   "execution_count": null,
   "id": "e0253b01-12e3-4fee-af10-c14e1431b594",
   "metadata": {},
   "outputs": [],
   "source": [
    "df1 = pd.read_csv('Movie data/tmdb_5000_credits.csv')"
   ]
  },
  {
   "cell_type": "code",
   "execution_count": null,
   "id": "32cc1e3f-095d-4a71-b245-f10a9d34ecb4",
   "metadata": {},
   "outputs": [],
   "source": [
    "df2 = pd.read_csv('Movie data/tmdb_5000_movies.csv')"
   ]
  },
  {
   "cell_type": "code",
   "execution_count": null,
   "id": "48841913-0053-4c87-aee6-875407b237ea",
   "metadata": {},
   "outputs": [],
   "source": [
    "df1.head()"
   ]
  },
  {
   "cell_type": "code",
   "execution_count": null,
   "id": "0f59df4a-715c-4c7c-a5d8-d3bb7afd7a0a",
   "metadata": {},
   "outputs": [],
   "source": [
    "df2.head()"
   ]
  },
  {
   "cell_type": "code",
   "execution_count": null,
   "id": "2ce9df53-d39b-4ec8-ae78-0096b0bf6303",
   "metadata": {},
   "outputs": [],
   "source": [
    "df1.info()"
   ]
  },
  {
   "cell_type": "code",
   "execution_count": null,
   "id": "2d5eface-7d06-4450-86c1-adb4ee485974",
   "metadata": {},
   "outputs": [],
   "source": [
    "df2.info()"
   ]
  },
  {
   "cell_type": "code",
   "execution_count": null,
   "id": "fe7e9986-bd16-434f-9088-b0f3983b057d",
   "metadata": {},
   "outputs": [],
   "source": [
    "df1.rename(columns = {'movie_id':'id'},inplace = True)"
   ]
  },
  {
   "cell_type": "code",
   "execution_count": null,
   "id": "4ede7df1-b63b-4c71-a052-8590ac807586",
   "metadata": {},
   "outputs": [],
   "source": [
    "df1.head()"
   ]
  },
  {
   "cell_type": "code",
   "execution_count": null,
   "id": "21a9fe60-9841-411f-91e2-fde20faeb021",
   "metadata": {},
   "outputs": [],
   "source": [
    "newdata = pd.merge(df1,df2, on = ['id','title'])"
   ]
  },
  {
   "cell_type": "code",
   "execution_count": null,
   "id": "aa50728a-9d8b-44de-843d-fdf27c45e73f",
   "metadata": {},
   "outputs": [],
   "source": [
    "newdata.info()"
   ]
  },
  {
   "cell_type": "code",
   "execution_count": null,
   "id": "50583ed1-4d0c-488e-a5ef-d0f73b0be196",
   "metadata": {},
   "outputs": [],
   "source": [
    "list = ['genres','homepage','keywords', 'original_title' ,'production_countries','status','production_companies','runtime','tagline' ,'spoken_languages','crew','overview']"
   ]
  },
  {
   "cell_type": "code",
   "execution_count": null,
   "id": "f6665400-bbaf-4efc-9db0-dc4352cb5a85",
   "metadata": {},
   "outputs": [],
   "source": [
    "newdata.head()"
   ]
  },
  {
   "cell_type": "code",
   "execution_count": null,
   "id": "a817a6c6-c194-4b2c-958b-307b16e3e589",
   "metadata": {},
   "outputs": [],
   "source": [
    "newdata.columns"
   ]
  },
  {
   "cell_type": "code",
   "execution_count": null,
   "id": "169e787a-1d13-4b29-8782-ee638498d584",
   "metadata": {},
   "outputs": [],
   "source": [
    "newdata.drop(list, axis = 1,inplace = True)"
   ]
  },
  {
   "cell_type": "code",
   "execution_count": null,
   "id": "9144876a-8a4b-4185-aeed-c40f15623b25",
   "metadata": {},
   "outputs": [],
   "source": [
    "newdata"
   ]
  },
  {
   "cell_type": "code",
   "execution_count": null,
   "id": "671e09f3-d8b0-4e4d-b4eb-1c44e297211f",
   "metadata": {},
   "outputs": [],
   "source": [
    "newdata.isnull().sum()"
   ]
  },
  {
   "cell_type": "code",
   "execution_count": null,
   "id": "535288f5-480a-424c-bf22-4b22fb123176",
   "metadata": {},
   "outputs": [],
   "source": [
    "newdata.fillna('1/3/2024', inplace = True)"
   ]
  },
  {
   "cell_type": "code",
   "execution_count": null,
   "id": "fd9d9e7d-fb72-42b7-8ae1-b143033b9388",
   "metadata": {},
   "outputs": [],
   "source": [
    "newdata.info()"
   ]
  },
  {
   "cell_type": "code",
   "execution_count": null,
   "id": "5221882d-b713-435f-aafe-dec06dd2d3f9",
   "metadata": {},
   "outputs": [],
   "source": [
    "newdata.describe().plot()"
   ]
  },
  {
   "cell_type": "code",
   "execution_count": null,
   "id": "c97724e8-95ef-43ad-84e3-137e9c12fe6f",
   "metadata": {},
   "outputs": [],
   "source": [
    "newdata['budget'].sort_values()"
   ]
  },
  {
   "cell_type": "code",
   "execution_count": null,
   "id": "b9b23266-f705-46a9-8dda-1753f1f8c473",
   "metadata": {},
   "outputs": [],
   "source": [
    "newdata.loc[17]"
   ]
  },
  {
   "cell_type": "code",
   "execution_count": null,
   "id": "45781f8f-69f0-4bb2-b2be-9576f24418b6",
   "metadata": {},
   "outputs": [],
   "source": [
    "newdata['revenue'].sort_values()"
   ]
  },
  {
   "cell_type": "code",
   "execution_count": null,
   "id": "60364fa2-9d2c-4db1-bdc0-acb62be22afd",
   "metadata": {},
   "outputs": [],
   "source": [
    "newdata.loc[0]"
   ]
  },
  {
   "cell_type": "code",
   "execution_count": null,
   "id": "316e14e3-b73a-421a-882e-97d78a1816b6",
   "metadata": {},
   "outputs": [],
   "source": [
    "newdata['release_date']"
   ]
  },
  {
   "cell_type": "code",
   "execution_count": null,
   "id": "25848c42-8096-4494-8120-847d6cc234c1",
   "metadata": {},
   "outputs": [],
   "source": [
    "newdata[newdata['release_date'] == '1/3/2024']"
   ]
  },
  {
   "cell_type": "code",
   "execution_count": null,
   "id": "c4dd043b-d1a8-494e-acc3-540d13f1a258",
   "metadata": {},
   "outputs": [],
   "source": [
    "newdata.drop(4553, axis = 0, inplace = True)"
   ]
  },
  {
   "cell_type": "code",
   "execution_count": null,
   "id": "0f7e28da-2342-4fdf-8794-dc8cbfbd2d7f",
   "metadata": {},
   "outputs": [],
   "source": [
    "newdata['release_date'] = pd.to_datetime(newdata['release_date'])"
   ]
  },
  {
   "cell_type": "code",
   "execution_count": null,
   "id": "163d83bf-4163-41e4-b6a9-d3c678379795",
   "metadata": {},
   "outputs": [],
   "source": [
    "newdata.info()"
   ]
  },
  {
   "cell_type": "code",
   "execution_count": null,
   "id": "64a5177b-f98c-4cf2-8717-a96d79ec2a0d",
   "metadata": {},
   "outputs": [],
   "source": [
    "newdata['original_language'].unique()"
   ]
  },
  {
   "cell_type": "code",
   "execution_count": null,
   "id": "76fc9235-6354-4023-a457-876e6d028641",
   "metadata": {},
   "outputs": [],
   "source": [
    "newdata['original_language']"
   ]
  },
  {
   "cell_type": "code",
   "execution_count": null,
   "id": "2cae479f-cf1c-41da-ac08-8ce67fa26d5d",
   "metadata": {},
   "outputs": [],
   "source": [
    "newdata.groupby('original_language')['vote_average'].mean().plot(kind = 'kde')"
   ]
  },
  {
   "cell_type": "code",
   "execution_count": null,
   "id": "bf8cc3c3-cf15-4937-9760-9d5f358c196c",
   "metadata": {},
   "outputs": [],
   "source": [
    "newdata.groupby('original_language')['vote_average'].mean()"
   ]
  },
  {
   "cell_type": "code",
   "execution_count": null,
   "id": "48d59016-83f4-4f21-9738-f41c2697fd61",
   "metadata": {},
   "outputs": [],
   "source": []
  }
 ],
 "metadata": {
  "kernelspec": {
   "display_name": "Python 3 (ipykernel)",
   "language": "python",
   "name": "python3"
  },
  "language_info": {
   "codemirror_mode": {
    "name": "ipython",
    "version": 3
   },
   "file_extension": ".py",
   "mimetype": "text/x-python",
   "name": "python",
   "nbconvert_exporter": "python",
   "pygments_lexer": "ipython3",
   "version": "3.12.3"
  }
 },
 "nbformat": 4,
 "nbformat_minor": 5
}
